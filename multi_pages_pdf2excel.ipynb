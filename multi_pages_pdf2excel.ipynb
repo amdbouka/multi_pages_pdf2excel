{
 "cells": [
  {
   "cell_type": "code",
   "execution_count": null,
   "id": "b16447c7-d766-4b26-aa7f-d7b25ca8837b",
   "metadata": {},
   "outputs": [],
   "source": [
    "import pandas as pd\n",
    "from collections import namedtuple \n",
    "\n",
    "# Open the CSV file and read its content\n",
    "with open('file path here', 'r') as f:\n",
    "    data = f.read()\n",
    "\n",
    "# Initialize an empty list to store named tuples\n",
    "lines = []\n",
    "\n",
    "# Define the named tuple structure\n",
    "Line = namedtuple('Line', 'company contact email phone department service_type equipment manufacturer model serial_number customer_id date_due')\n",
    "\n",
    "# Split the CSV content into lines and then split each line into items\n",
    "for line in data.split('\\n'):\n",
    "    items = [item for item in line.split(',') if item != '']\n",
    "    \n",
    "    # Extract company name and phone number\n",
    "    if 'Phone:' in items and not 'Department:' in items[0]:\n",
    "        company = items[0]\n",
    "        phone = items[-1]\n",
    "        \n",
    "    # Extract contact name\n",
    "    elif 'Contact:' in items and 'Department' not in items[0]:\n",
    "        contact = items[1]\n",
    "\n",
    "    # Extract email address\n",
    "    elif 'E-Mail:' in items and 'Service Type:' not in items[0]:\n",
    "        if len(items) < 2:\n",
    "            items.append('N/A')\n",
    "        email = items[1]\n",
    "        \n",
    "    # Extract department\n",
    "    elif items and len(items) > 0 and items[0].startswith('Department:'):\n",
    "        department = []\n",
    "        for item in items:\n",
    "            if item == 'Phone:':\n",
    "                break\n",
    "            department.append(item)\n",
    "    \n",
    "    # Extract service type\n",
    "    elif 'Service Type:' in items:\n",
    "        service_type = items[1]\n",
    "        \n",
    "    # Extract equipment information\n",
    "    elif 'Manufacturer' in items:\n",
    "        lst = items[:-1]\n",
    "        joined_string = ''.join(lst).replace('\"','')\n",
    "        equipment = joined_string\n",
    "        \n",
    "    # Extract manufacturer, model, serial number, customer ID, and due date\n",
    "    elif items and len(items) > 0 and items[-1].endswith('2024'):\n",
    "        if len(items) == 3:\n",
    "            items.insert(-1, \"N/A\")\n",
    "            items.insert(-2, \"N/A\")\n",
    "        elif len(items) == 4:\n",
    "            items.insert(-1,\"N/A\")\n",
    "        elif len(items) == 6:\n",
    "            items.pop(-1)\n",
    "        elif len(items) == 5:\n",
    "            pass\n",
    "            \n",
    "        manufacturer, model, serial_number, customer_id, date_due = items\n",
    "        \n",
    "        # Create a named tuple instance and append it to the list of lines\n",
    "        lines.append(Line(company, contact, email, phone, department, service_type, equipment, manufacturer, model, serial_number, customer_id, date_due))\n"
   ]
  },
  {
   "cell_type": "code",
   "execution_count": null,
   "id": "b0d6c254-a7ad-438a-94b9-1edf9d0442a6",
   "metadata": {},
   "outputs": [],
   "source": [
    "pd.set_option('display.max_columns', None)\n",
    "\n",
    "df = pd.DataFrame(lines)\n",
    "df"
   ]
  },
  {
   "cell_type": "code",
   "execution_count": null,
   "id": "0f0ecafd-cf43-4f9a-a822-c36301fb5136",
   "metadata": {},
   "outputs": [],
   "source": [
    "df.to_excel('output.xlsx', index = False)"
   ]
  }
 ],
 "metadata": {
  "kernelspec": {
   "display_name": "Python 3 (ipykernel)",
   "language": "python",
   "name": "python3"
  },
  "language_info": {
   "codemirror_mode": {
    "name": "ipython",
    "version": 3
   },
   "file_extension": ".py",
   "mimetype": "text/x-python",
   "name": "python",
   "nbconvert_exporter": "python",
   "pygments_lexer": "ipython3",
   "version": "3.11.7"
  }
 },
 "nbformat": 4,
 "nbformat_minor": 5
}
